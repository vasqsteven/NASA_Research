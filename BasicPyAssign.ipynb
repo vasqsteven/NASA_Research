{
 "cells": [
  {
   "cell_type": "markdown",
   "id": "f437c520-404a-413d-8d0b-6a6732a808ec",
   "metadata": {},
   "source": [
    "### Exercise 2.8: \n",
    "\n",
    "Suppose arrays a and b are defined as follows: \n",
    "\n",
    "    from numpy import array \n",
    "    \n",
    "    a = array([1,2,3,4],int) \n",
    "    \n",
    "    b = array([2,4,6,8],int) \n",
    "    \n",
    "\n",
    "What will the computer print upon executing the following lines? (Try to work out the answer before trying it on the computer.) \n",
    "\n",
    "a) print(b/a+1) = 3., 3., 3., 3.\n",
    "\n",
    "b) print(b/(a+1)) = 1., 1.333, 1.5, 1.6 \n",
    "\n",
    "c) print(1/a) = 1., 0.5, 0.33333333, 0.25"
   ]
  },
  {
   "cell_type": "code",
   "execution_count": 27,
   "id": "d2b28e4d-23ae-41fc-aa9d-06d31c78c095",
   "metadata": {},
   "outputs": [
    {
     "name": "stdout",
     "output_type": "stream",
     "text": [
      "[3. 3. 3. 3.]\n",
      "[1.         1.33333333 1.5        1.6       ]\n",
      "[1.         0.5        0.33333333 0.25      ]\n"
     ]
    }
   ],
   "source": [
    "# This is the only exercise from the book for arrays\n",
    "\n",
    "from numpy import array \n",
    "    \n",
    "a = array([1,2,3,4],int) \n",
    "    \n",
    "b = array([2,4,6,8],int) \n",
    "\n",
    "print(b/a+1)\n",
    "print(b/(a+1))\n",
    "print(1/a)"
   ]
  }
 ],
 "metadata": {
  "kernelspec": {
   "display_name": "Python 3 (ipykernel)",
   "language": "python",
   "name": "python3"
  },
  "language_info": {
   "codemirror_mode": {
    "name": "ipython",
    "version": 3
   },
   "file_extension": ".py",
   "mimetype": "text/x-python",
   "name": "python",
   "nbconvert_exporter": "python",
   "pygments_lexer": "ipython3",
   "version": "3.12.4"
  }
 },
 "nbformat": 4,
 "nbformat_minor": 5
}
